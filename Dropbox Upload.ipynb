{
 "cells": [
  {
   "cell_type": "code",
   "execution_count": 9,
   "metadata": {},
   "outputs": [
    {
     "name": "stdout",
     "output_type": "stream",
     "text": [
      "Requirement already satisfied: dropbox in c:\\users\\stan\\ananconda3.8\\lib\\site-packages (11.4.1)\n",
      "Requirement already satisfied: requests>=2.16.2 in c:\\users\\stan\\ananconda3.8\\lib\\site-packages (from dropbox) (2.24.0)\n",
      "Requirement already satisfied: six>=1.12.0 in c:\\users\\stan\\ananconda3.8\\lib\\site-packages (from dropbox) (1.15.0)\n",
      "Requirement already satisfied: stone>=2.* in c:\\users\\stan\\ananconda3.8\\lib\\site-packages (from dropbox) (3.2.1)\n",
      "Requirement already satisfied: chardet<4,>=3.0.2 in c:\\users\\stan\\ananconda3.8\\lib\\site-packages (from requests>=2.16.2->dropbox) (3.0.4)\n",
      "Requirement already satisfied: certifi>=2017.4.17 in c:\\users\\stan\\ananconda3.8\\lib\\site-packages (from requests>=2.16.2->dropbox) (2020.6.20)\n",
      "Requirement already satisfied: urllib3!=1.25.0,!=1.25.1,<1.26,>=1.21.1 in c:\\users\\stan\\ananconda3.8\\lib\\site-packages (from requests>=2.16.2->dropbox) (1.25.11)\n",
      "Requirement already satisfied: idna<3,>=2.5 in c:\\users\\stan\\ananconda3.8\\lib\\site-packages (from requests>=2.16.2->dropbox) (2.10)\n",
      "Requirement already satisfied: ply>=3.4 in c:\\users\\stan\\ananconda3.8\\lib\\site-packages (from stone>=2.*->dropbox) (3.11)\n",
      "Requirement already satisfied: pathlib in c:\\users\\stan\\ananconda3.8\\lib\\site-packages (1.0.1)\n",
      "Requirement already satisfied: regex in c:\\users\\stan\\ananconda3.8\\lib\\site-packages (2020.10.15)\n"
     ]
    }
   ],
   "source": [
    "!pip install dropbox\n",
    "!pip install pathlib\n",
    "!pip install regex"
   ]
  },
  {
   "cell_type": "code",
   "execution_count": 14,
   "metadata": {},
   "outputs": [],
   "source": [
    "import dropbox\n",
    "\n",
    "class TransferData:\n",
    "    def __init__(self, access_token):\n",
    "        self.access_token = access_token\n",
    "\n",
    "    def upload_file(self, file_from, file_to):\n",
    "        \"\"\"upload a file to Dropbox using API v2\n",
    "        \"\"\"\n",
    "        dbx = dropbox.Dropbox(self.access_token)\n",
    "\n",
    "        with open(file_from, 'rb') as f:\n",
    "            dbx.files_upload(f.read(), file_to)\n",
    "\n",
    "def main():\n",
    "    access_token = 'lDZpCkWfjRYAAAAAAAAAAX6uD9jb7ZOpfsgq1MfFqP7RtdNL-yRPwontsSqcolch'\n",
    "    transferData = TransferData(access_token)\n",
    "\n",
    "    file_from = 'merged_tweets_eredivisie.csv'\n",
    "    file_to = '/Apps/dPrep/merged_tweets_eredivisie.csv'  # The full path to upload the file to, including the file name\n",
    "\n",
    "    # API v2\n",
    "    transferData.upload_file(file_from, file_to)\n",
    "\n",
    "if __name__ == '__main__':\n",
    "    main()"
   ]
  },
  {
   "cell_type": "code",
   "execution_count": null,
   "metadata": {},
   "outputs": [],
   "source": []
  }
 ],
 "metadata": {
  "kernelspec": {
   "display_name": "Python 3",
   "language": "python",
   "name": "python3"
  },
  "language_info": {
   "codemirror_mode": {
    "name": "ipython",
    "version": 3
   },
   "file_extension": ".py",
   "mimetype": "text/x-python",
   "name": "python",
   "nbconvert_exporter": "python",
   "pygments_lexer": "ipython3",
   "version": "3.8.5"
  }
 },
 "nbformat": 4,
 "nbformat_minor": 4
}
